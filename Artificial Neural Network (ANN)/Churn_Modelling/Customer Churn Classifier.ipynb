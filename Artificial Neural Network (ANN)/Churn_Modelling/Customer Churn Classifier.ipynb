{
 "cells": [
  {
   "cell_type": "markdown",
   "metadata": {},
   "source": [
    "# Bank Customer's Churn Classification"
   ]
  },
  {
   "cell_type": "markdown",
   "metadata": {},
   "source": [
    "Classifying bank customers based on their previous banking activities, neither they will leave the bank or not."
   ]
  },
  {
   "cell_type": "markdown",
   "metadata": {},
   "source": [
    "Dataset: https://www.superdatascience.com/pages/deep-learning"
   ]
  },
  {
   "cell_type": "code",
   "execution_count": null,
   "metadata": {},
   "outputs": [],
   "source": [
    "# Connecting Google Drive with Google Colab\n",
    "from google.colab import drive\n",
    "drive.mount('/content/drive/')"
   ]
  },
  {
   "cell_type": "code",
   "execution_count": 1,
   "metadata": {},
   "outputs": [],
   "source": [
    "# Importing libraries\n",
    "import numpy as np\n",
    "import pandas as pd"
   ]
  },
  {
   "cell_type": "code",
   "execution_count": 2,
   "metadata": {},
   "outputs": [],
   "source": [
    "# Loading the dataset\n",
    "df = pd.read_csv('/content/drive/My Drive/Colab Notebooks/Datafiles/Churn_Modelling.csv')"
   ]
  },
  {
   "cell_type": "code",
   "execution_count": 3,
   "metadata": {},
   "outputs": [],
   "source": [
    "pd.set_option('display.max_rows', 500)\n",
    "pd.set_option('display.max_columns', 500)\n",
    "pd.set_option('display.width', 1000)"
   ]
  },
  {
   "cell_type": "markdown",
   "metadata": {},
   "source": [
    "## Exploring the Dataset"
   ]
  },
  {
   "cell_type": "code",
   "execution_count": 4,
   "metadata": {},
   "outputs": [
    {
     "data": {
      "text/plain": [
       "(10000, 14)"
      ]
     },
     "execution_count": 4,
     "metadata": {},
     "output_type": "execute_result"
    }
   ],
   "source": [
    "# Returns number of rows and columns of dataset\n",
    "df.shape"
   ]
  },
  {
   "cell_type": "code",
   "execution_count": 5,
   "metadata": {
    "scrolled": true
   },
   "outputs": [
    {
     "data": {
      "text/html": [
       "<div>\n",
       "<style scoped>\n",
       "    .dataframe tbody tr th:only-of-type {\n",
       "        vertical-align: middle;\n",
       "    }\n",
       "\n",
       "    .dataframe tbody tr th {\n",
       "        vertical-align: top;\n",
       "    }\n",
       "\n",
       "    .dataframe thead th {\n",
       "        text-align: right;\n",
       "    }\n",
       "</style>\n",
       "<table border=\"1\" class=\"dataframe\">\n",
       "  <thead>\n",
       "    <tr style=\"text-align: right;\">\n",
       "      <th></th>\n",
       "      <th>RowNumber</th>\n",
       "      <th>CustomerId</th>\n",
       "      <th>Surname</th>\n",
       "      <th>CreditScore</th>\n",
       "      <th>Geography</th>\n",
       "      <th>Gender</th>\n",
       "      <th>Age</th>\n",
       "      <th>Tenure</th>\n",
       "      <th>Balance</th>\n",
       "      <th>NumOfProducts</th>\n",
       "      <th>HasCrCard</th>\n",
       "      <th>IsActiveMember</th>\n",
       "      <th>EstimatedSalary</th>\n",
       "      <th>Exited</th>\n",
       "    </tr>\n",
       "  </thead>\n",
       "  <tbody>\n",
       "    <tr>\n",
       "      <th>0</th>\n",
       "      <td>1</td>\n",
       "      <td>15634602</td>\n",
       "      <td>Hargrave</td>\n",
       "      <td>619</td>\n",
       "      <td>France</td>\n",
       "      <td>Female</td>\n",
       "      <td>42</td>\n",
       "      <td>2</td>\n",
       "      <td>0.00</td>\n",
       "      <td>1</td>\n",
       "      <td>1</td>\n",
       "      <td>1</td>\n",
       "      <td>101348.88</td>\n",
       "      <td>1</td>\n",
       "    </tr>\n",
       "    <tr>\n",
       "      <th>1</th>\n",
       "      <td>2</td>\n",
       "      <td>15647311</td>\n",
       "      <td>Hill</td>\n",
       "      <td>608</td>\n",
       "      <td>Spain</td>\n",
       "      <td>Female</td>\n",
       "      <td>41</td>\n",
       "      <td>1</td>\n",
       "      <td>83807.86</td>\n",
       "      <td>1</td>\n",
       "      <td>0</td>\n",
       "      <td>1</td>\n",
       "      <td>112542.58</td>\n",
       "      <td>0</td>\n",
       "    </tr>\n",
       "    <tr>\n",
       "      <th>2</th>\n",
       "      <td>3</td>\n",
       "      <td>15619304</td>\n",
       "      <td>Onio</td>\n",
       "      <td>502</td>\n",
       "      <td>France</td>\n",
       "      <td>Female</td>\n",
       "      <td>42</td>\n",
       "      <td>8</td>\n",
       "      <td>159660.80</td>\n",
       "      <td>3</td>\n",
       "      <td>1</td>\n",
       "      <td>0</td>\n",
       "      <td>113931.57</td>\n",
       "      <td>1</td>\n",
       "    </tr>\n",
       "    <tr>\n",
       "      <th>3</th>\n",
       "      <td>4</td>\n",
       "      <td>15701354</td>\n",
       "      <td>Boni</td>\n",
       "      <td>699</td>\n",
       "      <td>France</td>\n",
       "      <td>Female</td>\n",
       "      <td>39</td>\n",
       "      <td>1</td>\n",
       "      <td>0.00</td>\n",
       "      <td>2</td>\n",
       "      <td>0</td>\n",
       "      <td>0</td>\n",
       "      <td>93826.63</td>\n",
       "      <td>0</td>\n",
       "    </tr>\n",
       "    <tr>\n",
       "      <th>4</th>\n",
       "      <td>5</td>\n",
       "      <td>15737888</td>\n",
       "      <td>Mitchell</td>\n",
       "      <td>850</td>\n",
       "      <td>Spain</td>\n",
       "      <td>Female</td>\n",
       "      <td>43</td>\n",
       "      <td>2</td>\n",
       "      <td>125510.82</td>\n",
       "      <td>1</td>\n",
       "      <td>1</td>\n",
       "      <td>1</td>\n",
       "      <td>79084.10</td>\n",
       "      <td>0</td>\n",
       "    </tr>\n",
       "  </tbody>\n",
       "</table>\n",
       "</div>"
      ],
      "text/plain": [
       "   RowNumber  CustomerId   Surname  CreditScore Geography  Gender  Age  Tenure    Balance  NumOfProducts  HasCrCard  IsActiveMember  EstimatedSalary  Exited\n",
       "0          1    15634602  Hargrave          619    France  Female   42       2       0.00              1          1               1        101348.88       1\n",
       "1          2    15647311      Hill          608     Spain  Female   41       1   83807.86              1          0               1        112542.58       0\n",
       "2          3    15619304      Onio          502    France  Female   42       8  159660.80              3          1               0        113931.57       1\n",
       "3          4    15701354      Boni          699    France  Female   39       1       0.00              2          0               0         93826.63       0\n",
       "4          5    15737888  Mitchell          850     Spain  Female   43       2  125510.82              1          1               1         79084.10       0"
      ]
     },
     "execution_count": 5,
     "metadata": {},
     "output_type": "execute_result"
    }
   ],
   "source": [
    "# Returns the first 5 number of rows\n",
    "df.head()"
   ]
  },
  {
   "cell_type": "code",
   "execution_count": 6,
   "metadata": {},
   "outputs": [
    {
     "data": {
      "text/html": [
       "<div>\n",
       "<style scoped>\n",
       "    .dataframe tbody tr th:only-of-type {\n",
       "        vertical-align: middle;\n",
       "    }\n",
       "\n",
       "    .dataframe tbody tr th {\n",
       "        vertical-align: top;\n",
       "    }\n",
       "\n",
       "    .dataframe thead th {\n",
       "        text-align: right;\n",
       "    }\n",
       "</style>\n",
       "<table border=\"1\" class=\"dataframe\">\n",
       "  <thead>\n",
       "    <tr style=\"text-align: right;\">\n",
       "      <th></th>\n",
       "      <th>RowNumber</th>\n",
       "      <th>CustomerId</th>\n",
       "      <th>Surname</th>\n",
       "      <th>CreditScore</th>\n",
       "      <th>Geography</th>\n",
       "      <th>Gender</th>\n",
       "      <th>Age</th>\n",
       "      <th>Tenure</th>\n",
       "      <th>Balance</th>\n",
       "      <th>NumOfProducts</th>\n",
       "      <th>HasCrCard</th>\n",
       "      <th>IsActiveMember</th>\n",
       "      <th>EstimatedSalary</th>\n",
       "      <th>Exited</th>\n",
       "    </tr>\n",
       "  </thead>\n",
       "  <tbody>\n",
       "    <tr>\n",
       "      <th>9995</th>\n",
       "      <td>9996</td>\n",
       "      <td>15606229</td>\n",
       "      <td>Obijiaku</td>\n",
       "      <td>771</td>\n",
       "      <td>France</td>\n",
       "      <td>Male</td>\n",
       "      <td>39</td>\n",
       "      <td>5</td>\n",
       "      <td>0.00</td>\n",
       "      <td>2</td>\n",
       "      <td>1</td>\n",
       "      <td>0</td>\n",
       "      <td>96270.64</td>\n",
       "      <td>0</td>\n",
       "    </tr>\n",
       "    <tr>\n",
       "      <th>9996</th>\n",
       "      <td>9997</td>\n",
       "      <td>15569892</td>\n",
       "      <td>Johnstone</td>\n",
       "      <td>516</td>\n",
       "      <td>France</td>\n",
       "      <td>Male</td>\n",
       "      <td>35</td>\n",
       "      <td>10</td>\n",
       "      <td>57369.61</td>\n",
       "      <td>1</td>\n",
       "      <td>1</td>\n",
       "      <td>1</td>\n",
       "      <td>101699.77</td>\n",
       "      <td>0</td>\n",
       "    </tr>\n",
       "    <tr>\n",
       "      <th>9997</th>\n",
       "      <td>9998</td>\n",
       "      <td>15584532</td>\n",
       "      <td>Liu</td>\n",
       "      <td>709</td>\n",
       "      <td>France</td>\n",
       "      <td>Female</td>\n",
       "      <td>36</td>\n",
       "      <td>7</td>\n",
       "      <td>0.00</td>\n",
       "      <td>1</td>\n",
       "      <td>0</td>\n",
       "      <td>1</td>\n",
       "      <td>42085.58</td>\n",
       "      <td>1</td>\n",
       "    </tr>\n",
       "    <tr>\n",
       "      <th>9998</th>\n",
       "      <td>9999</td>\n",
       "      <td>15682355</td>\n",
       "      <td>Sabbatini</td>\n",
       "      <td>772</td>\n",
       "      <td>Germany</td>\n",
       "      <td>Male</td>\n",
       "      <td>42</td>\n",
       "      <td>3</td>\n",
       "      <td>75075.31</td>\n",
       "      <td>2</td>\n",
       "      <td>1</td>\n",
       "      <td>0</td>\n",
       "      <td>92888.52</td>\n",
       "      <td>1</td>\n",
       "    </tr>\n",
       "    <tr>\n",
       "      <th>9999</th>\n",
       "      <td>10000</td>\n",
       "      <td>15628319</td>\n",
       "      <td>Walker</td>\n",
       "      <td>792</td>\n",
       "      <td>France</td>\n",
       "      <td>Female</td>\n",
       "      <td>28</td>\n",
       "      <td>4</td>\n",
       "      <td>130142.79</td>\n",
       "      <td>1</td>\n",
       "      <td>1</td>\n",
       "      <td>0</td>\n",
       "      <td>38190.78</td>\n",
       "      <td>0</td>\n",
       "    </tr>\n",
       "  </tbody>\n",
       "</table>\n",
       "</div>"
      ],
      "text/plain": [
       "      RowNumber  CustomerId    Surname  CreditScore Geography  Gender  Age  Tenure    Balance  NumOfProducts  HasCrCard  IsActiveMember  EstimatedSalary  Exited\n",
       "9995       9996    15606229   Obijiaku          771    France    Male   39       5       0.00              2          1               0         96270.64       0\n",
       "9996       9997    15569892  Johnstone          516    France    Male   35      10   57369.61              1          1               1        101699.77       0\n",
       "9997       9998    15584532        Liu          709    France  Female   36       7       0.00              1          0               1         42085.58       1\n",
       "9998       9999    15682355  Sabbatini          772   Germany    Male   42       3   75075.31              2          1               0         92888.52       1\n",
       "9999      10000    15628319     Walker          792    France  Female   28       4  130142.79              1          1               0         38190.78       0"
      ]
     },
     "execution_count": 6,
     "metadata": {},
     "output_type": "execute_result"
    }
   ],
   "source": [
    "# Returns the last 5 number of rows\n",
    "df.tail()"
   ]
  },
  {
   "cell_type": "code",
   "execution_count": 7,
   "metadata": {},
   "outputs": [
    {
     "data": {
      "text/plain": [
       "RowNumber            int64\n",
       "CustomerId           int64\n",
       "Surname             object\n",
       "CreditScore          int64\n",
       "Geography           object\n",
       "Gender              object\n",
       "Age                  int64\n",
       "Tenure               int64\n",
       "Balance            float64\n",
       "NumOfProducts        int64\n",
       "HasCrCard            int64\n",
       "IsActiveMember       int64\n",
       "EstimatedSalary    float64\n",
       "Exited               int64\n",
       "dtype: object"
      ]
     },
     "execution_count": 7,
     "metadata": {},
     "output_type": "execute_result"
    }
   ],
   "source": [
    "# Returns different datatypes for each columns (float, int, string, bool, etc.)\n",
    "df.dtypes"
   ]
  },
  {
   "cell_type": "code",
   "execution_count": 8,
   "metadata": {},
   "outputs": [
    {
     "data": {
      "text/plain": [
       "Index(['RowNumber', 'CustomerId', 'Surname', 'CreditScore', 'Geography', 'Gender', 'Age', 'Tenure', 'Balance', 'NumOfProducts', 'HasCrCard', 'IsActiveMember', 'EstimatedSalary', 'Exited'], dtype='object')"
      ]
     },
     "execution_count": 8,
     "metadata": {},
     "output_type": "execute_result"
    }
   ],
   "source": [
    "# Returns an object with all of the column headers \n",
    "df.columns"
   ]
  },
  {
   "cell_type": "code",
   "execution_count": 9,
   "metadata": {},
   "outputs": [
    {
     "data": {
      "text/plain": [
       "RowNumber          0\n",
       "CustomerId         0\n",
       "Surname            0\n",
       "CreditScore        0\n",
       "Geography          0\n",
       "Gender             0\n",
       "Age                0\n",
       "Tenure             0\n",
       "Balance            0\n",
       "NumOfProducts      0\n",
       "HasCrCard          0\n",
       "IsActiveMember     0\n",
       "EstimatedSalary    0\n",
       "Exited             0\n",
       "dtype: int64"
      ]
     },
     "execution_count": 9,
     "metadata": {},
     "output_type": "execute_result"
    }
   ],
   "source": [
    "# Returns number of null values\n",
    "df.isnull().sum()"
   ]
  },
  {
   "cell_type": "code",
   "execution_count": 10,
   "metadata": {},
   "outputs": [],
   "source": [
    "# Importing essential libraries for visualizations\n",
    "import matplotlib.pyplot as plt\n",
    "import seaborn as sns\n",
    "%matplotlib inline"
   ]
  },
  {
   "cell_type": "code",
   "execution_count": 11,
   "metadata": {
    "scrolled": true
   },
   "outputs": [
    {
     "data": {
      "image/png": "[encoded data removed]",
      "text/plain": [
       "<Figure size 576x576 with 1 Axes>"
      ]
     },
     "metadata": {
      "needs_background": "light"
     },
     "output_type": "display_data"
    }
   ],
   "source": [
    "# Visualizing the count of 'exited customers' in the dataset\n",
    "plt.figure(figsize=(8,8))\n",
    "sns.set(style=\"darkgrid\")\n",
    "sns.countplot(x='Exited', data=df)\n",
    "plt.xlabel('0: Customers still with the bank, 1: Customers exited the bank')\n",
    "plt.ylabel('Count')\n",
    "plt.title('Bank Customers Churn Visualization')\n",
    "plt.show()"
   ]
  },
  {
   "cell_type": "markdown",
   "metadata": {},
   "source": [
    "## Feature Engineering"
   ]
  },
  {
   "cell_type": "code",
   "execution_count": 12,
   "metadata": {},
   "outputs": [
    {
     "data": {
      "text/html": [
       "<div>\n",
       "<style scoped>\n",
       "    .dataframe tbody tr th:only-of-type {\n",
       "        vertical-align: middle;\n",
       "    }\n",
       "\n",
       "    .dataframe tbody tr th {\n",
       "        vertical-align: top;\n",
       "    }\n",
       "\n",
       "    .dataframe thead th {\n",
       "        text-align: right;\n",
       "    }\n",
       "</style>\n",
       "<table border=\"1\" class=\"dataframe\">\n",
       "  <thead>\n",
       "    <tr style=\"text-align: right;\">\n",
       "      <th></th>\n",
       "      <th>CustomerId</th>\n",
       "      <th>Surname</th>\n",
       "    </tr>\n",
       "  </thead>\n",
       "  <tbody>\n",
       "    <tr>\n",
       "      <th>0</th>\n",
       "      <td>15634602</td>\n",
       "      <td>Hargrave</td>\n",
       "    </tr>\n",
       "    <tr>\n",
       "      <th>1</th>\n",
       "      <td>15647311</td>\n",
       "      <td>Hill</td>\n",
       "    </tr>\n",
       "    <tr>\n",
       "      <th>2</th>\n",
       "      <td>15619304</td>\n",
       "      <td>Onio</td>\n",
       "    </tr>\n",
       "    <tr>\n",
       "      <th>3</th>\n",
       "      <td>15701354</td>\n",
       "      <td>Boni</td>\n",
       "    </tr>\n",
       "    <tr>\n",
       "      <th>4</th>\n",
       "      <td>15737888</td>\n",
       "      <td>Mitchell</td>\n",
       "    </tr>\n",
       "    <tr>\n",
       "      <th>...</th>\n",
       "      <td>...</td>\n",
       "      <td>...</td>\n",
       "    </tr>\n",
       "    <tr>\n",
       "      <th>9995</th>\n",
       "      <td>15606229</td>\n",
       "      <td>Obijiaku</td>\n",
       "    </tr>\n",
       "    <tr>\n",
       "      <th>9996</th>\n",
       "      <td>15569892</td>\n",
       "      <td>Johnstone</td>\n",
       "    </tr>\n",
       "    <tr>\n",
       "      <th>9997</th>\n",
       "      <td>15584532</td>\n",
       "      <td>Liu</td>\n",
       "    </tr>\n",
       "    <tr>\n",
       "      <th>9998</th>\n",
       "      <td>15682355</td>\n",
       "      <td>Sabbatini</td>\n",
       "    </tr>\n",
       "    <tr>\n",
       "      <th>9999</th>\n",
       "      <td>15628319</td>\n",
       "      <td>Walker</td>\n",
       "    </tr>\n",
       "  </tbody>\n",
       "</table>\n",
       "<p>10000 rows × 2 columns</p>\n",
       "</div>"
      ],
      "text/plain": [
       "      CustomerId    Surname\n",
       "0       15634602   Hargrave\n",
       "1       15647311       Hill\n",
       "2       15619304       Onio\n",
       "3       15701354       Boni\n",
       "4       15737888   Mitchell\n",
       "...          ...        ...\n",
       "9995    15606229   Obijiaku\n",
       "9996    15569892  Johnstone\n",
       "9997    15584532        Liu\n",
       "9998    15682355  Sabbatini\n",
       "9999    15628319     Walker\n",
       "\n",
       "[10000 rows x 2 columns]"
      ]
     },
     "execution_count": 12,
     "metadata": {},
     "output_type": "execute_result"
    }
   ],
   "source": [
    "dropped_columns=df.iloc[:,1:3]\n",
    "dropped_columns"
   ]
  },
  {
   "cell_type": "code",
   "execution_count": 13,
   "metadata": {},
   "outputs": [
    {
     "data": {
      "text/plain": [
       "Index(['CreditScore', 'Geography', 'Gender', 'Age', 'Tenure', 'Balance', 'NumOfProducts', 'HasCrCard', 'IsActiveMember', 'EstimatedSalary', 'Exited'], dtype='object')"
      ]
     },
     "execution_count": 13,
     "metadata": {},
     "output_type": "execute_result"
    }
   ],
   "source": [
    "df.drop(['RowNumber','CustomerId','Surname'], axis=1, inplace=True)\n",
    "df.columns"
   ]
  },
  {
   "cell_type": "code",
   "execution_count": 14,
   "metadata": {},
   "outputs": [],
   "source": [
    "# Converting 'Geography' and 'Gender' column\n",
    "geography = pd.get_dummies(df['Geography'], drop_first=True)\n",
    "gender = pd.get_dummies(df['Gender'], drop_first=True)"
   ]
  },
  {
   "cell_type": "code",
   "execution_count": 15,
   "metadata": {},
   "outputs": [
    {
     "data": {
      "text/plain": [
       "Index(['CreditScore', 'Geography', 'Gender', 'Age', 'Tenure', 'Balance', 'NumOfProducts', 'HasCrCard', 'IsActiveMember', 'EstimatedSalary', 'Exited', 'Germany', 'Spain', 'Male'], dtype='object')"
      ]
     },
     "execution_count": 15,
     "metadata": {},
     "output_type": "execute_result"
    }
   ],
   "source": [
    "# Appending columns to original dataframe\n",
    "df = pd.concat([df, geography, gender], axis=1)\n",
    "df.columns"
   ]
  },
  {
   "cell_type": "code",
   "execution_count": 16,
   "metadata": {},
   "outputs": [],
   "source": [
    "df.drop(['Geography', 'Gender'], axis=1, inplace=True)"
   ]
  },
  {
   "cell_type": "code",
   "execution_count": 17,
   "metadata": {},
   "outputs": [
    {
     "data": {
      "text/html": [
       "<div>\n",
       "<style scoped>\n",
       "    .dataframe tbody tr th:only-of-type {\n",
       "        vertical-align: middle;\n",
       "    }\n",
       "\n",
       "    .dataframe tbody tr th {\n",
       "        vertical-align: top;\n",
       "    }\n",
       "\n",
       "    .dataframe thead th {\n",
       "        text-align: right;\n",
       "    }\n",
       "</style>\n",
       "<table border=\"1\" class=\"dataframe\">\n",
       "  <thead>\n",
       "    <tr style=\"text-align: right;\">\n",
       "      <th></th>\n",
       "      <th>CreditScore</th>\n",
       "      <th>Age</th>\n",
       "      <th>Tenure</th>\n",
       "      <th>Balance</th>\n",
       "      <th>NumOfProducts</th>\n",
       "      <th>HasCrCard</th>\n",
       "      <th>IsActiveMember</th>\n",
       "      <th>EstimatedSalary</th>\n",
       "      <th>Exited</th>\n",
       "      <th>Germany</th>\n",
       "      <th>Spain</th>\n",
       "      <th>Male</th>\n",
       "    </tr>\n",
       "  </thead>\n",
       "  <tbody>\n",
       "    <tr>\n",
       "      <th>0</th>\n",
       "      <td>619</td>\n",
       "      <td>42</td>\n",
       "      <td>2</td>\n",
       "      <td>0.00</td>\n",
       "      <td>1</td>\n",
       "      <td>1</td>\n",
       "      <td>1</td>\n",
       "      <td>101348.88</td>\n",
       "      <td>1</td>\n",
       "      <td>0</td>\n",
       "      <td>0</td>\n",
       "      <td>0</td>\n",
       "    </tr>\n",
       "    <tr>\n",
       "      <th>1</th>\n",
       "      <td>608</td>\n",
       "      <td>41</td>\n",
       "      <td>1</td>\n",
       "      <td>83807.86</td>\n",
       "      <td>1</td>\n",
       "      <td>0</td>\n",
       "      <td>1</td>\n",
       "      <td>112542.58</td>\n",
       "      <td>0</td>\n",
       "      <td>0</td>\n",
       "      <td>1</td>\n",
       "      <td>0</td>\n",
       "    </tr>\n",
       "    <tr>\n",
       "      <th>2</th>\n",
       "      <td>502</td>\n",
       "      <td>42</td>\n",
       "      <td>8</td>\n",
       "      <td>159660.80</td>\n",
       "      <td>3</td>\n",
       "      <td>1</td>\n",
       "      <td>0</td>\n",
       "      <td>113931.57</td>\n",
       "      <td>1</td>\n",
       "      <td>0</td>\n",
       "      <td>0</td>\n",
       "      <td>0</td>\n",
       "    </tr>\n",
       "    <tr>\n",
       "      <th>3</th>\n",
       "      <td>699</td>\n",
       "      <td>39</td>\n",
       "      <td>1</td>\n",
       "      <td>0.00</td>\n",
       "      <td>2</td>\n",
       "      <td>0</td>\n",
       "      <td>0</td>\n",
       "      <td>93826.63</td>\n",
       "      <td>0</td>\n",
       "      <td>0</td>\n",
       "      <td>0</td>\n",
       "      <td>0</td>\n",
       "    </tr>\n",
       "    <tr>\n",
       "      <th>4</th>\n",
       "      <td>850</td>\n",
       "      <td>43</td>\n",
       "      <td>2</td>\n",
       "      <td>125510.82</td>\n",
       "      <td>1</td>\n",
       "      <td>1</td>\n",
       "      <td>1</td>\n",
       "      <td>79084.10</td>\n",
       "      <td>0</td>\n",
       "      <td>0</td>\n",
       "      <td>1</td>\n",
       "      <td>0</td>\n",
       "    </tr>\n",
       "  </tbody>\n",
       "</table>\n",
       "</div>"
      ],
      "text/plain": [
       "   CreditScore  Age  Tenure    Balance  NumOfProducts  HasCrCard  IsActiveMember  EstimatedSalary  Exited  Germany  Spain  Male\n",
       "0          619   42       2       0.00              1          1               1        101348.88       1        0      0     0\n",
       "1          608   41       1   83807.86              1          0               1        112542.58       0        0      1     0\n",
       "2          502   42       8  159660.80              3          1               0        113931.57       1        0      0     0\n",
       "3          699   39       1       0.00              2          0               0         93826.63       0        0      0     0\n",
       "4          850   43       2  125510.82              1          1               1         79084.10       0        0      1     0"
      ]
     },
     "execution_count": 17,
     "metadata": {},
     "output_type": "execute_result"
    }
   ],
   "source": [
    "df.head()"
   ]
  },
  {
   "cell_type": "markdown",
   "metadata": {},
   "source": [
    "## Data Preprocessing"
   ]
  },
  {
   "cell_type": "code",
   "execution_count": 18,
   "metadata": {},
   "outputs": [],
   "source": [
    "X = df.drop('Exited', axis=1)\n",
    "y = df['Exited']"
   ]
  },
  {
   "cell_type": "code",
   "execution_count": 19,
   "metadata": {},
   "outputs": [],
   "source": [
    "# Splitting the dataset into the train and test set\n",
    "from sklearn.model_selection import train_test_split\n",
    "X_train, X_test, y_train, y_test = train_test_split(X, y, test_size = 0.2, random_state = 0)"
   ]
  },
  {
   "cell_type": "code",
   "execution_count": 20,
   "metadata": {},
   "outputs": [],
   "source": [
    "# Feature Scaling\n",
    "from sklearn.preprocessing import StandardScaler\n",
    "sc = StandardScaler()\n",
    "X_train = sc.fit_transform(X_train)\n",
    "X_test = sc.transform(X_test)"
   ]
  },
  {
   "cell_type": "markdown",
   "metadata": {},
   "source": [
    "## Building Artificial Neural Network (ANN)"
   ]
  },
  {
   "cell_type": "code",
   "execution_count": 21,
   "metadata": {},
   "outputs": [
    {
     "name": "stderr",
     "output_type": "stream",
     "text": [
      "Using TensorFlow backend.\n",
      "C:\\Users\\elena\\Anaconda3\\lib\\site-packages\\tensorboard\\compat\\tensorflow_stub\\dtypes.py:541: FutureWarning: Passing (type, 1) or '1type' as a synonym of type is deprecated; in a future version of numpy, it will be understood as (type, (1,)) / '(1,)type'.\n",
      "  _np_qint8 = np.dtype([(\"qint8\", np.int8, 1)])\n",
      "C:\\Users\\elena\\Anaconda3\\lib\\site-packages\\tensorboard\\compat\\tensorflow_stub\\dtypes.py:542: FutureWarning: Passing (type, 1) or '1type' as a synonym of type is deprecated; in a future version of numpy, it will be understood as (type, (1,)) / '(1,)type'.\n",
      "  _np_quint8 = np.dtype([(\"quint8\", np.uint8, 1)])\n",
      "C:\\Users\\elena\\Anaconda3\\lib\\site-packages\\tensorboard\\compat\\tensorflow_stub\\dtypes.py:543: FutureWarning: Passing (type, 1) or '1type' as a synonym of type is deprecated; in a future version of numpy, it will be understood as (type, (1,)) / '(1,)type'.\n",
      "  _np_qint16 = np.dtype([(\"qint16\", np.int16, 1)])\n",
      "C:\\Users\\elena\\Anaconda3\\lib\\site-packages\\tensorboard\\compat\\tensorflow_stub\\dtypes.py:544: FutureWarning: Passing (type, 1) or '1type' as a synonym of type is deprecated; in a future version of numpy, it will be understood as (type, (1,)) / '(1,)type'.\n",
      "  _np_quint16 = np.dtype([(\"quint16\", np.uint16, 1)])\n",
      "C:\\Users\\elena\\Anaconda3\\lib\\site-packages\\tensorboard\\compat\\tensorflow_stub\\dtypes.py:545: FutureWarning: Passing (type, 1) or '1type' as a synonym of type is deprecated; in a future version of numpy, it will be understood as (type, (1,)) / '(1,)type'.\n",
      "  _np_qint32 = np.dtype([(\"qint32\", np.int32, 1)])\n",
      "C:\\Users\\elena\\Anaconda3\\lib\\site-packages\\tensorboard\\compat\\tensorflow_stub\\dtypes.py:550: FutureWarning: Passing (type, 1) or '1type' as a synonym of type is deprecated; in a future version of numpy, it will be understood as (type, (1,)) / '(1,)type'.\n",
      "  np_resource = np.dtype([(\"resource\", np.ubyte, 1)])\n"
     ]
    }
   ],
   "source": [
    "# Importing the Keras libraries and packages\n",
    "import keras\n",
    "from keras.models import Sequential\n",
    "from keras.layers import Dense"
   ]
  },
  {
   "cell_type": "code",
   "execution_count": 22,
   "metadata": {},
   "outputs": [],
   "source": [
    "# Initialising the ANN\n",
    "classifier = Sequential()"
   ]
  },
  {
   "cell_type": "code",
   "execution_count": 23,
   "metadata": {},
   "outputs": [],
   "source": [
    "# Adding the input layer and the first hidden layer\n",
    "classifier.add(Dense(units=6, kernel_initializer='he_uniform', activation='relu', input_dim=11))"
   ]
  },
  {
   "cell_type": "code",
   "execution_count": 24,
   "metadata": {},
   "outputs": [],
   "source": [
    "# Adding the second hidden layer\n",
    "classifier.add(Dense(units=6, kernel_initializer='he_uniform', activation='relu'))"
   ]
  },
  {
   "cell_type": "code",
   "execution_count": 25,
   "metadata": {},
   "outputs": [],
   "source": [
    "# Adding the output layer\n",
    "classifier.add(Dense(units=1, kernel_initializer='glorot_uniform', activation='sigmoid'))"
   ]
  },
  {
   "cell_type": "code",
   "execution_count": 26,
   "metadata": {},
   "outputs": [],
   "source": [
    "# Compiling the ANN\n",
    "classifier.compile(optimizer='adam', loss='binary_crossentropy', metrics=['accuracy'])"
   ]
  },
  {
   "cell_type": "code",
   "execution_count": 27,
   "metadata": {},
   "outputs": [
    {
     "name": "stdout",
     "output_type": "stream",
     "text": [
      "Train on 5359 samples, validate on 2641 samples\n",
      "Epoch 1/100\n",
      "5359/5359 [==============================] - 1s 245us/step - loss: 0.5286 - accuracy: 0.7938 - val_loss: 0.4843 - val_accuracy: 0.7955\n",
      "Epoch 2/100\n",
      "5359/5359 [==============================] - 1s 191us/step - loss: 0.4617 - accuracy: 0.7966 - val_loss: 0.4525 - val_accuracy: 0.7963\n",
      "Epoch 3/100\n",
      "5359/5359 [==============================] - 1s 189us/step - loss: 0.4378 - accuracy: 0.7981 - val_loss: 0.4390 - val_accuracy: 0.8016\n",
      "Epoch 4/100\n",
      "5359/5359 [==============================] - 1s 190us/step - loss: 0.4274 - accuracy: 0.8020 - val_loss: 0.4322 - val_accuracy: 0.8012\n",
      "Epoch 5/100\n",
      "5359/5359 [==============================] - 1s 192us/step - loss: 0.4214 - accuracy: 0.8057 - val_loss: 0.4269 - val_accuracy: 0.7982\n",
      "Epoch 6/100\n",
      "5359/5359 [==============================] - 1s 188us/step - loss: 0.4152 - accuracy: 0.8087 - val_loss: 0.4204 - val_accuracy: 0.7970\n",
      "Epoch 7/100\n",
      "5359/5359 [==============================] - 1s 193us/step - loss: 0.4088 - accuracy: 0.8080 - val_loss: 0.4128 - val_accuracy: 0.7993\n",
      "Epoch 8/100\n",
      "5359/5359 [==============================] - 1s 192us/step - loss: 0.4001 - accuracy: 0.8087 - val_loss: 0.4037 - val_accuracy: 0.8031\n",
      "Epoch 9/100\n",
      "5359/5359 [==============================] - 1s 187us/step - loss: 0.3903 - accuracy: 0.8164 - val_loss: 0.3933 - val_accuracy: 0.8152\n",
      "Epoch 10/100\n",
      "5359/5359 [==============================] - 1s 191us/step - loss: 0.3798 - accuracy: 0.8306 - val_loss: 0.3842 - val_accuracy: 0.8391\n",
      "Epoch 11/100\n",
      "5359/5359 [==============================] - 1s 188us/step - loss: 0.3702 - accuracy: 0.8416 - val_loss: 0.3767 - val_accuracy: 0.8444\n",
      "Epoch 12/100\n",
      "5359/5359 [==============================] - 1s 187us/step - loss: 0.3629 - accuracy: 0.8475 - val_loss: 0.3713 - val_accuracy: 0.8478\n",
      "Epoch 13/100\n",
      "5359/5359 [==============================] - 1s 189us/step - loss: 0.3571 - accuracy: 0.8539 - val_loss: 0.3677 - val_accuracy: 0.8493\n",
      "Epoch 14/100\n",
      "5359/5359 [==============================] - 1s 189us/step - loss: 0.3529 - accuracy: 0.8546 - val_loss: 0.3660 - val_accuracy: 0.8485\n",
      "Epoch 15/100\n",
      "5359/5359 [==============================] - 1s 199us/step - loss: 0.3497 - accuracy: 0.8563 - val_loss: 0.3627 - val_accuracy: 0.8535\n",
      "Epoch 16/100\n",
      "5359/5359 [==============================] - 1s 186us/step - loss: 0.3471 - accuracy: 0.8574 - val_loss: 0.3618 - val_accuracy: 0.8554\n",
      "Epoch 17/100\n",
      "5359/5359 [==============================] - 1s 187us/step - loss: 0.3454 - accuracy: 0.8563 - val_loss: 0.3614 - val_accuracy: 0.8531\n",
      "Epoch 18/100\n",
      "5359/5359 [==============================] - 1s 185us/step - loss: 0.3437 - accuracy: 0.8565 - val_loss: 0.3603 - val_accuracy: 0.8523\n",
      "Epoch 19/100\n",
      "5359/5359 [==============================] - 1s 187us/step - loss: 0.3423 - accuracy: 0.8589 - val_loss: 0.3597 - val_accuracy: 0.8538\n",
      "Epoch 20/100\n",
      "5359/5359 [==============================] - 1s 188us/step - loss: 0.3413 - accuracy: 0.8572 - val_loss: 0.3596 - val_accuracy: 0.8550\n",
      "Epoch 21/100\n",
      "5359/5359 [==============================] - 1s 190us/step - loss: 0.3403 - accuracy: 0.8587 - val_loss: 0.3581 - val_accuracy: 0.8557\n",
      "Epoch 22/100\n",
      "5359/5359 [==============================] - 1s 189us/step - loss: 0.3392 - accuracy: 0.8584 - val_loss: 0.3580 - val_accuracy: 0.8531\n",
      "Epoch 23/100\n",
      "5359/5359 [==============================] - 1s 187us/step - loss: 0.3381 - accuracy: 0.8600 - val_loss: 0.3585 - val_accuracy: 0.8531\n",
      "Epoch 24/100\n",
      "5359/5359 [==============================] - 1s 188us/step - loss: 0.3375 - accuracy: 0.8630 - val_loss: 0.3574 - val_accuracy: 0.8550\n",
      "Epoch 25/100\n",
      "5359/5359 [==============================] - 1s 193us/step - loss: 0.3362 - accuracy: 0.8615 - val_loss: 0.3571 - val_accuracy: 0.8565\n",
      "Epoch 26/100\n",
      "5359/5359 [==============================] - 1s 188us/step - loss: 0.3357 - accuracy: 0.8617 - val_loss: 0.3558 - val_accuracy: 0.8591\n",
      "Epoch 27/100\n",
      "5359/5359 [==============================] - 1s 188us/step - loss: 0.3351 - accuracy: 0.8604 - val_loss: 0.3550 - val_accuracy: 0.8622\n",
      "Epoch 28/100\n",
      "5359/5359 [==============================] - 1s 189us/step - loss: 0.3341 - accuracy: 0.8628 - val_loss: 0.3548 - val_accuracy: 0.8641\n",
      "Epoch 29/100\n",
      "5359/5359 [==============================] - 1s 187us/step - loss: 0.3335 - accuracy: 0.8615 - val_loss: 0.3542 - val_accuracy: 0.8618\n",
      "Epoch 30/100\n",
      "5359/5359 [==============================] - 1s 188us/step - loss: 0.3326 - accuracy: 0.8604 - val_loss: 0.3534 - val_accuracy: 0.8607\n",
      "Epoch 31/100\n",
      "5359/5359 [==============================] - 1s 189us/step - loss: 0.3318 - accuracy: 0.8623 - val_loss: 0.3556 - val_accuracy: 0.8603\n",
      "Epoch 32/100\n",
      "5359/5359 [==============================] - 1s 189us/step - loss: 0.3322 - accuracy: 0.8608 - val_loss: 0.3548 - val_accuracy: 0.8588\n",
      "Epoch 33/100\n",
      "5359/5359 [==============================] - 1s 189us/step - loss: 0.3319 - accuracy: 0.8638 - val_loss: 0.3528 - val_accuracy: 0.8618\n",
      "Epoch 34/100\n",
      "5359/5359 [==============================] - 1s 198us/step - loss: 0.3315 - accuracy: 0.8642 - val_loss: 0.3534 - val_accuracy: 0.8573\n",
      "Epoch 35/100\n",
      "5359/5359 [==============================] - 1s 191us/step - loss: 0.3308 - accuracy: 0.8636 - val_loss: 0.3546 - val_accuracy: 0.8588\n",
      "Epoch 36/100\n",
      "5359/5359 [==============================] - 1s 190us/step - loss: 0.3306 - accuracy: 0.8619 - val_loss: 0.3549 - val_accuracy: 0.8580\n",
      "Epoch 37/100\n",
      "5359/5359 [==============================] - 1s 185us/step - loss: 0.3302 - accuracy: 0.8640 - val_loss: 0.3544 - val_accuracy: 0.8580\n",
      "Epoch 38/100\n",
      "5359/5359 [==============================] - 1s 185us/step - loss: 0.3302 - accuracy: 0.8640 - val_loss: 0.3538 - val_accuracy: 0.8599\n",
      "Epoch 39/100\n",
      "5359/5359 [==============================] - 1s 188us/step - loss: 0.3302 - accuracy: 0.8642 - val_loss: 0.3539 - val_accuracy: 0.8584\n",
      "Epoch 40/100\n",
      "5359/5359 [==============================] - 1s 187us/step - loss: 0.3294 - accuracy: 0.8638 - val_loss: 0.3531 - val_accuracy: 0.8618\n",
      "Epoch 41/100\n",
      "5359/5359 [==============================] - 1s 186us/step - loss: 0.3294 - accuracy: 0.8653 - val_loss: 0.3547 - val_accuracy: 0.8584\n",
      "Epoch 42/100\n",
      "5359/5359 [==============================] - 1s 183us/step - loss: 0.3293 - accuracy: 0.8634 - val_loss: 0.3548 - val_accuracy: 0.8614\n",
      "Epoch 43/100\n",
      "5359/5359 [==============================] - 1s 185us/step - loss: 0.3286 - accuracy: 0.8656 - val_loss: 0.3549 - val_accuracy: 0.8610\n",
      "Epoch 44/100\n",
      "5359/5359 [==============================] - 1s 187us/step - loss: 0.3292 - accuracy: 0.8630 - val_loss: 0.3556 - val_accuracy: 0.8584\n",
      "Epoch 45/100\n",
      "5359/5359 [==============================] - 1s 187us/step - loss: 0.3286 - accuracy: 0.8640 - val_loss: 0.3567 - val_accuracy: 0.8565\n",
      "Epoch 46/100\n",
      "5359/5359 [==============================] - 1s 183us/step - loss: 0.3287 - accuracy: 0.8647 - val_loss: 0.3554 - val_accuracy: 0.8591\n",
      "Epoch 47/100\n",
      "5359/5359 [==============================] - 1s 186us/step - loss: 0.3286 - accuracy: 0.8638 - val_loss: 0.3554 - val_accuracy: 0.8573\n",
      "Epoch 48/100\n",
      "5359/5359 [==============================] - 1s 185us/step - loss: 0.3281 - accuracy: 0.8656 - val_loss: 0.3552 - val_accuracy: 0.8603\n",
      "Epoch 49/100\n",
      "5359/5359 [==============================] - 1s 186us/step - loss: 0.3282 - accuracy: 0.8647 - val_loss: 0.3549 - val_accuracy: 0.8599\n",
      "Epoch 50/100\n",
      "5359/5359 [==============================] - 1s 186us/step - loss: 0.3278 - accuracy: 0.8651 - val_loss: 0.3554 - val_accuracy: 0.8603\n",
      "Epoch 51/100\n",
      "5359/5359 [==============================] - 1s 185us/step - loss: 0.3275 - accuracy: 0.8660 - val_loss: 0.3550 - val_accuracy: 0.8618\n",
      "Epoch 52/100\n",
      "5359/5359 [==============================] - 1s 188us/step - loss: 0.3272 - accuracy: 0.8662 - val_loss: 0.3555 - val_accuracy: 0.8599\n",
      "Epoch 53/100\n",
      "5359/5359 [==============================] - 1s 186us/step - loss: 0.3272 - accuracy: 0.8660 - val_loss: 0.3557 - val_accuracy: 0.8603\n",
      "Epoch 54/100\n",
      "5359/5359 [==============================] - 1s 185us/step - loss: 0.3272 - accuracy: 0.8664 - val_loss: 0.3556 - val_accuracy: 0.8591\n",
      "Epoch 55/100\n",
      "5359/5359 [==============================] - 1s 190us/step - loss: 0.3274 - accuracy: 0.8656 - val_loss: 0.3559 - val_accuracy: 0.8599\n",
      "Epoch 56/100\n",
      "5359/5359 [==============================] - 1s 190us/step - loss: 0.3271 - accuracy: 0.8679 - val_loss: 0.3558 - val_accuracy: 0.8603\n",
      "Epoch 57/100\n",
      "5359/5359 [==============================] - 1s 185us/step - loss: 0.3268 - accuracy: 0.8670 - val_loss: 0.3558 - val_accuracy: 0.8599\n",
      "Epoch 58/100\n",
      "5359/5359 [==============================] - 1s 188us/step - loss: 0.3266 - accuracy: 0.8662 - val_loss: 0.3567 - val_accuracy: 0.8607\n",
      "Epoch 59/100\n",
      "5359/5359 [==============================] - 1s 184us/step - loss: 0.3267 - accuracy: 0.8662 - val_loss: 0.3544 - val_accuracy: 0.8607\n",
      "Epoch 60/100\n",
      "5359/5359 [==============================] - 1s 182us/step - loss: 0.3271 - accuracy: 0.8645 - val_loss: 0.3556 - val_accuracy: 0.8591\n",
      "Epoch 61/100\n",
      "5359/5359 [==============================] - 1s 183us/step - loss: 0.3265 - accuracy: 0.8664 - val_loss: 0.3558 - val_accuracy: 0.8584\n",
      "Epoch 62/100\n",
      "5359/5359 [==============================] - 1s 182us/step - loss: 0.3264 - accuracy: 0.8656 - val_loss: 0.3565 - val_accuracy: 0.8576\n",
      "Epoch 63/100\n",
      "5359/5359 [==============================] - 1s 184us/step - loss: 0.3265 - accuracy: 0.8660 - val_loss: 0.3568 - val_accuracy: 0.8607\n",
      "Epoch 64/100\n",
      "5359/5359 [==============================] - 1s 182us/step - loss: 0.3259 - accuracy: 0.8653 - val_loss: 0.3562 - val_accuracy: 0.8607\n",
      "Epoch 65/100\n",
      "5359/5359 [==============================] - 1s 195us/step - loss: 0.3265 - accuracy: 0.8681 - val_loss: 0.3563 - val_accuracy: 0.8626\n",
      "Epoch 66/100\n",
      "5359/5359 [==============================] - 1s 198us/step - loss: 0.3255 - accuracy: 0.8660 - val_loss: 0.3569 - val_accuracy: 0.8580\n",
      "Epoch 67/100\n",
      "5359/5359 [==============================] - 1s 187us/step - loss: 0.3261 - accuracy: 0.8662 - val_loss: 0.3571 - val_accuracy: 0.8584\n",
      "Epoch 68/100\n",
      "5359/5359 [==============================] - 1s 184us/step - loss: 0.3266 - accuracy: 0.8683 - val_loss: 0.3560 - val_accuracy: 0.8603\n",
      "Epoch 69/100\n",
      "5359/5359 [==============================] - 1s 184us/step - loss: 0.3259 - accuracy: 0.8655 - val_loss: 0.3557 - val_accuracy: 0.8610\n",
      "Epoch 70/100\n",
      "5359/5359 [==============================] - 1s 185us/step - loss: 0.3257 - accuracy: 0.8668 - val_loss: 0.3564 - val_accuracy: 0.8610\n",
      "Epoch 71/100\n",
      "5359/5359 [==============================] - 1s 183us/step - loss: 0.3261 - accuracy: 0.8668 - val_loss: 0.3559 - val_accuracy: 0.8607\n",
      "Epoch 72/100\n",
      "5359/5359 [==============================] - 1s 186us/step - loss: 0.3257 - accuracy: 0.8675 - val_loss: 0.3573 - val_accuracy: 0.8607\n",
      "Epoch 73/100\n",
      "5359/5359 [==============================] - 1s 186us/step - loss: 0.3260 - accuracy: 0.8656 - val_loss: 0.3569 - val_accuracy: 0.8610\n",
      "Epoch 74/100\n",
      "5359/5359 [==============================] - 1s 183us/step - loss: 0.3259 - accuracy: 0.8664 - val_loss: 0.3563 - val_accuracy: 0.8610\n",
      "Epoch 75/100\n",
      "5359/5359 [==============================] - 1s 190us/step - loss: 0.3259 - accuracy: 0.8670 - val_loss: 0.3571 - val_accuracy: 0.8603\n",
      "Epoch 76/100\n",
      "5359/5359 [==============================] - 1s 181us/step - loss: 0.3254 - accuracy: 0.8664 - val_loss: 0.3576 - val_accuracy: 0.8599\n",
      "Epoch 77/100\n",
      "5359/5359 [==============================] - 1s 186us/step - loss: 0.3256 - accuracy: 0.8684 - val_loss: 0.3557 - val_accuracy: 0.8610\n",
      "Epoch 78/100\n",
      "5359/5359 [==============================] - 1s 185us/step - loss: 0.3254 - accuracy: 0.8658 - val_loss: 0.3568 - val_accuracy: 0.8595\n",
      "Epoch 79/100\n",
      "5359/5359 [==============================] - 1s 181us/step - loss: 0.3256 - accuracy: 0.8690 - val_loss: 0.3562 - val_accuracy: 0.8591\n",
      "Epoch 80/100\n",
      "5359/5359 [==============================] - 1s 184us/step - loss: 0.3255 - accuracy: 0.8670 - val_loss: 0.3562 - val_accuracy: 0.8595\n",
      "Epoch 81/100\n",
      "5359/5359 [==============================] - 1s 186us/step - loss: 0.3254 - accuracy: 0.8658 - val_loss: 0.3569 - val_accuracy: 0.8599\n",
      "Epoch 82/100\n",
      "5359/5359 [==============================] - 1s 184us/step - loss: 0.3248 - accuracy: 0.8681 - val_loss: 0.3583 - val_accuracy: 0.8584\n",
      "Epoch 83/100\n",
      "5359/5359 [==============================] - 1s 185us/step - loss: 0.3254 - accuracy: 0.8666 - val_loss: 0.3562 - val_accuracy: 0.8603\n",
      "Epoch 84/100\n",
      "5359/5359 [==============================] - 1s 183us/step - loss: 0.3253 - accuracy: 0.8675 - val_loss: 0.3564 - val_accuracy: 0.8588\n",
      "Epoch 85/100\n",
      "5359/5359 [==============================] - 1s 195us/step - loss: 0.3250 - accuracy: 0.8679 - val_loss: 0.3565 - val_accuracy: 0.8607\n",
      "Epoch 86/100\n",
      "5359/5359 [==============================] - 1s 185us/step - loss: 0.3255 - accuracy: 0.8664 - val_loss: 0.3559 - val_accuracy: 0.8607\n",
      "Epoch 87/100\n",
      "5359/5359 [==============================] - 1s 192us/step - loss: 0.3249 - accuracy: 0.8656 - val_loss: 0.3597 - val_accuracy: 0.8569\n",
      "Epoch 88/100\n",
      "5359/5359 [==============================] - 1s 186us/step - loss: 0.3251 - accuracy: 0.8679 - val_loss: 0.3563 - val_accuracy: 0.8599\n",
      "Epoch 89/100\n",
      "5359/5359 [==============================] - 1s 181us/step - loss: 0.3253 - accuracy: 0.8668 - val_loss: 0.3579 - val_accuracy: 0.8584\n",
      "Epoch 90/100\n",
      "5359/5359 [==============================] - 1s 184us/step - loss: 0.3246 - accuracy: 0.8655 - val_loss: 0.3566 - val_accuracy: 0.8614\n",
      "Epoch 91/100\n",
      "5359/5359 [==============================] - 1s 184us/step - loss: 0.3246 - accuracy: 0.8679 - val_loss: 0.3593 - val_accuracy: 0.8576\n",
      "Epoch 92/100\n",
      "5359/5359 [==============================] - 1s 184us/step - loss: 0.3249 - accuracy: 0.8664 - val_loss: 0.3578 - val_accuracy: 0.8584\n",
      "Epoch 93/100\n",
      "5359/5359 [==============================] - 1s 185us/step - loss: 0.3249 - accuracy: 0.8656 - val_loss: 0.3569 - val_accuracy: 0.8591\n",
      "Epoch 94/100\n",
      "5359/5359 [==============================] - 1s 185us/step - loss: 0.3246 - accuracy: 0.8668 - val_loss: 0.3569 - val_accuracy: 0.8595\n",
      "Epoch 95/100\n",
      "5359/5359 [==============================] - 1s 186us/step - loss: 0.3243 - accuracy: 0.8694 - val_loss: 0.3581 - val_accuracy: 0.8576\n",
      "Epoch 96/100\n",
      "5359/5359 [==============================] - 1s 195us/step - loss: 0.3249 - accuracy: 0.8683 - val_loss: 0.3589 - val_accuracy: 0.8595\n",
      "Epoch 97/100\n",
      "5359/5359 [==============================] - 1s 228us/step - loss: 0.3243 - accuracy: 0.8684 - val_loss: 0.3573 - val_accuracy: 0.8603\n",
      "Epoch 98/100\n",
      "5359/5359 [==============================] - 1s 186us/step - loss: 0.3245 - accuracy: 0.8660 - val_loss: 0.3586 - val_accuracy: 0.8603\n",
      "Epoch 99/100\n",
      "5359/5359 [==============================] - 1s 185us/step - loss: 0.3242 - accuracy: 0.8686 - val_loss: 0.3588 - val_accuracy: 0.8576\n",
      "Epoch 100/100\n",
      "5359/5359 [==============================] - 1s 188us/step - loss: 0.3243 - accuracy: 0.8671 - val_loss: 0.3587 - val_accuracy: 0.8584\n"
     ]
    }
   ],
   "source": [
    "# Fitting the ANN to the Training set\n",
    "model_history = classifier.fit(X_train, y_train, batch_size=10, validation_split=0.33, epochs=100)"
   ]
  },
  {
   "cell_type": "markdown",
   "metadata": {},
   "source": [
    "## Model Evaluation"
   ]
  },
  {
   "cell_type": "code",
   "execution_count": 28,
   "metadata": {},
   "outputs": [],
   "source": [
    "# returns the propabilities to leave the bank\n",
    "y_pred = classifier.predict(X_test) "
   ]
  },
  {
   "cell_type": "code",
   "execution_count": 29,
   "metadata": {},
   "outputs": [
    {
     "data": {
      "text/plain": [
       "array([[False],\n",
       "       [False],\n",
       "       [False],\n",
       "       ...,\n",
       "       [False],\n",
       "       [False],\n",
       "       [False]])"
      ]
     },
     "execution_count": 29,
     "metadata": {},
     "output_type": "execute_result"
    }
   ],
   "source": [
    "y_pred = (y_pred > 0.5) # if y_pred >0.5 -> True, if not ->False\n",
    "y_pred"
   ]
  },
  {
   "cell_type": "code",
   "execution_count": 30,
   "metadata": {},
   "outputs": [
    {
     "data": {
      "text/plain": [
       "(      CustomerId    Surname\n",
       " 0       15634602   Hargrave\n",
       " 1       15647311       Hill\n",
       " 2       15619304       Onio\n",
       " 3       15701354       Boni\n",
       " 4       15737888   Mitchell\n",
       " ...          ...        ...\n",
       " 9995    15606229   Obijiaku\n",
       " 9996    15569892  Johnstone\n",
       " 9997    15584532        Liu\n",
       " 9998    15682355  Sabbatini\n",
       " 9999    15628319     Walker\n",
       " \n",
       " [10000 rows x 2 columns],\n",
       "           0\n",
       " 0     False\n",
       " 1     False\n",
       " 2     False\n",
       " 3     False\n",
       " 4     False\n",
       " ...     ...\n",
       " 1995  False\n",
       " 1996  False\n",
       " 1997  False\n",
       " 1998  False\n",
       " 1999  False\n",
       " \n",
       " [2000 rows x 1 columns])"
      ]
     },
     "execution_count": 30,
     "metadata": {},
     "output_type": "execute_result"
    }
   ],
   "source": [
    "ff_1=pd.DataFrame(dropped_columns) \n",
    "ff_2=pd.DataFrame(y_pred) \n",
    "ff_1, ff_2"
   ]
  },
  {
   "cell_type": "code",
   "execution_count": 31,
   "metadata": {},
   "outputs": [
    {
     "data": {
      "text/html": [
       "<div>\n",
       "<style scoped>\n",
       "    .dataframe tbody tr th:only-of-type {\n",
       "        vertical-align: middle;\n",
       "    }\n",
       "\n",
       "    .dataframe tbody tr th {\n",
       "        vertical-align: top;\n",
       "    }\n",
       "\n",
       "    .dataframe thead th {\n",
       "        text-align: right;\n",
       "    }\n",
       "</style>\n",
       "<table border=\"1\" class=\"dataframe\">\n",
       "  <thead>\n",
       "    <tr style=\"text-align: right;\">\n",
       "      <th></th>\n",
       "      <th>CustomerId</th>\n",
       "      <th>Surname</th>\n",
       "      <th>Prediction</th>\n",
       "    </tr>\n",
       "  </thead>\n",
       "  <tbody>\n",
       "    <tr>\n",
       "      <th>0</th>\n",
       "      <td>15634602</td>\n",
       "      <td>Hargrave</td>\n",
       "      <td>False</td>\n",
       "    </tr>\n",
       "    <tr>\n",
       "      <th>1</th>\n",
       "      <td>15647311</td>\n",
       "      <td>Hill</td>\n",
       "      <td>False</td>\n",
       "    </tr>\n",
       "    <tr>\n",
       "      <th>2</th>\n",
       "      <td>15619304</td>\n",
       "      <td>Onio</td>\n",
       "      <td>False</td>\n",
       "    </tr>\n",
       "    <tr>\n",
       "      <th>3</th>\n",
       "      <td>15701354</td>\n",
       "      <td>Boni</td>\n",
       "      <td>False</td>\n",
       "    </tr>\n",
       "    <tr>\n",
       "      <th>4</th>\n",
       "      <td>15737888</td>\n",
       "      <td>Mitchell</td>\n",
       "      <td>False</td>\n",
       "    </tr>\n",
       "    <tr>\n",
       "      <th>...</th>\n",
       "      <td>...</td>\n",
       "      <td>...</td>\n",
       "      <td>...</td>\n",
       "    </tr>\n",
       "    <tr>\n",
       "      <th>9995</th>\n",
       "      <td>15606229</td>\n",
       "      <td>Obijiaku</td>\n",
       "      <td>NaN</td>\n",
       "    </tr>\n",
       "    <tr>\n",
       "      <th>9996</th>\n",
       "      <td>15569892</td>\n",
       "      <td>Johnstone</td>\n",
       "      <td>NaN</td>\n",
       "    </tr>\n",
       "    <tr>\n",
       "      <th>9997</th>\n",
       "      <td>15584532</td>\n",
       "      <td>Liu</td>\n",
       "      <td>NaN</td>\n",
       "    </tr>\n",
       "    <tr>\n",
       "      <th>9998</th>\n",
       "      <td>15682355</td>\n",
       "      <td>Sabbatini</td>\n",
       "      <td>NaN</td>\n",
       "    </tr>\n",
       "    <tr>\n",
       "      <th>9999</th>\n",
       "      <td>15628319</td>\n",
       "      <td>Walker</td>\n",
       "      <td>NaN</td>\n",
       "    </tr>\n",
       "  </tbody>\n",
       "</table>\n",
       "<p>10000 rows × 3 columns</p>\n",
       "</div>"
      ],
      "text/plain": [
       "      CustomerId    Surname Prediction\n",
       "0       15634602   Hargrave      False\n",
       "1       15647311       Hill      False\n",
       "2       15619304       Onio      False\n",
       "3       15701354       Boni      False\n",
       "4       15737888   Mitchell      False\n",
       "...          ...        ...        ...\n",
       "9995    15606229   Obijiaku        NaN\n",
       "9996    15569892  Johnstone        NaN\n",
       "9997    15584532        Liu        NaN\n",
       "9998    15682355  Sabbatini        NaN\n",
       "9999    15628319     Walker        NaN\n",
       "\n",
       "[10000 rows x 3 columns]"
      ]
     },
     "execution_count": 31,
     "metadata": {},
     "output_type": "execute_result"
    }
   ],
   "source": [
    "dd=pd.concat([ff_1, ff_2], axis=1)\n",
    "dd.columns=['CustomerId','Surname', 'Prediction']\n",
    "dd"
   ]
  },
  {
   "cell_type": "code",
   "execution_count": 32,
   "metadata": {},
   "outputs": [
    {
     "data": {
      "text/html": [
       "<div>\n",
       "<style scoped>\n",
       "    .dataframe tbody tr th:only-of-type {\n",
       "        vertical-align: middle;\n",
       "    }\n",
       "\n",
       "    .dataframe tbody tr th {\n",
       "        vertical-align: top;\n",
       "    }\n",
       "\n",
       "    .dataframe thead th {\n",
       "        text-align: right;\n",
       "    }\n",
       "</style>\n",
       "<table border=\"1\" class=\"dataframe\">\n",
       "  <thead>\n",
       "    <tr style=\"text-align: right;\">\n",
       "      <th></th>\n",
       "      <th>CustomerId</th>\n",
       "      <th>Surname</th>\n",
       "      <th>Prediction</th>\n",
       "    </tr>\n",
       "  </thead>\n",
       "  <tbody>\n",
       "    <tr>\n",
       "      <th>0</th>\n",
       "      <td>15634602</td>\n",
       "      <td>Hargrave</td>\n",
       "      <td>False</td>\n",
       "    </tr>\n",
       "    <tr>\n",
       "      <th>1</th>\n",
       "      <td>15647311</td>\n",
       "      <td>Hill</td>\n",
       "      <td>False</td>\n",
       "    </tr>\n",
       "    <tr>\n",
       "      <th>2</th>\n",
       "      <td>15619304</td>\n",
       "      <td>Onio</td>\n",
       "      <td>False</td>\n",
       "    </tr>\n",
       "    <tr>\n",
       "      <th>3</th>\n",
       "      <td>15701354</td>\n",
       "      <td>Boni</td>\n",
       "      <td>False</td>\n",
       "    </tr>\n",
       "    <tr>\n",
       "      <th>4</th>\n",
       "      <td>15737888</td>\n",
       "      <td>Mitchell</td>\n",
       "      <td>False</td>\n",
       "    </tr>\n",
       "    <tr>\n",
       "      <th>...</th>\n",
       "      <td>...</td>\n",
       "      <td>...</td>\n",
       "      <td>...</td>\n",
       "    </tr>\n",
       "    <tr>\n",
       "      <th>1995</th>\n",
       "      <td>15617648</td>\n",
       "      <td>Mikkelsen</td>\n",
       "      <td>False</td>\n",
       "    </tr>\n",
       "    <tr>\n",
       "      <th>1996</th>\n",
       "      <td>15755678</td>\n",
       "      <td>Kovalyov</td>\n",
       "      <td>False</td>\n",
       "    </tr>\n",
       "    <tr>\n",
       "      <th>1997</th>\n",
       "      <td>15624781</td>\n",
       "      <td>Mbanefo</td>\n",
       "      <td>False</td>\n",
       "    </tr>\n",
       "    <tr>\n",
       "      <th>1998</th>\n",
       "      <td>15779497</td>\n",
       "      <td>Ts'ai</td>\n",
       "      <td>False</td>\n",
       "    </tr>\n",
       "    <tr>\n",
       "      <th>1999</th>\n",
       "      <td>15567399</td>\n",
       "      <td>Enderby</td>\n",
       "      <td>False</td>\n",
       "    </tr>\n",
       "  </tbody>\n",
       "</table>\n",
       "<p>2000 rows × 3 columns</p>\n",
       "</div>"
      ],
      "text/plain": [
       "      CustomerId    Surname Prediction\n",
       "0       15634602   Hargrave      False\n",
       "1       15647311       Hill      False\n",
       "2       15619304       Onio      False\n",
       "3       15701354       Boni      False\n",
       "4       15737888   Mitchell      False\n",
       "...          ...        ...        ...\n",
       "1995    15617648  Mikkelsen      False\n",
       "1996    15755678   Kovalyov      False\n",
       "1997    15624781    Mbanefo      False\n",
       "1998    15779497      Ts'ai      False\n",
       "1999    15567399    Enderby      False\n",
       "\n",
       "[2000 rows x 3 columns]"
      ]
     },
     "execution_count": 32,
     "metadata": {},
     "output_type": "execute_result"
    }
   ],
   "source": [
    "dd= dd[dd['Prediction'].notna()]\n",
    "dd"
   ]
  },
  {
   "cell_type": "code",
   "execution_count": 33,
   "metadata": {},
   "outputs": [
    {
     "data": {
      "text/plain": [
       "array([[1512,   83],\n",
       "       [ 201,  204]], dtype=int64)"
      ]
     },
     "execution_count": 33,
     "metadata": {},
     "output_type": "execute_result"
    }
   ],
   "source": [
    "# Making the Confusion Matrix\n",
    "from sklearn.metrics import confusion_matrix\n",
    "cm = confusion_matrix(y_test, y_pred)\n",
    "cm"
   ]
  },
  {
   "cell_type": "code",
   "execution_count": 34,
   "metadata": {},
   "outputs": [
    {
     "data": {
      "image/png": "[encoded data removed]",
      "text/plain": [
       "<Figure size 576x432 with 2 Axes>"
      ]
     },
     "metadata": {},
     "output_type": "display_data"
    }
   ],
   "source": [
    "# Plotting confusion matrix\n",
    "plt.figure(figsize=(8,6))\n",
    "sns.heatmap(cm, cmap='Blues', annot=True, xticklabels=['Did not Exit', 'Exit'], yticklabels=['Did not Exit', 'Exit'])\n",
    "plt.xlabel('Predicted values')\n",
    "plt.ylabel('Actual values')\n",
    "plt.title('Confusion Matrix for ANN model')\n",
    "plt.show()"
   ]
  },
  {
   "cell_type": "code",
   "execution_count": 35,
   "metadata": {},
   "outputs": [
    {
     "name": "stdout",
     "output_type": "stream",
     "text": [
      "The accuracy for ANN model is: 85.8%\n"
     ]
    }
   ],
   "source": [
    "# Calculate the Accuracy\n",
    "from sklearn.metrics import accuracy_score\n",
    "score = accuracy_score(y_pred,y_test)\n",
    "print('The accuracy for ANN model is: {}%'.format(score*100))"
   ]
  },
  {
   "cell_type": "code",
   "execution_count": 36,
   "metadata": {},
   "outputs": [
    {
     "data": {
      "text/plain": [
       "dict_keys(['val_loss', 'val_accuracy', 'loss', 'accuracy'])"
      ]
     },
     "execution_count": 36,
     "metadata": {},
     "output_type": "execute_result"
    }
   ],
   "source": [
    "# List all data in history\n",
    "model_history.history.keys()"
   ]
  },
  {
   "cell_type": "code",
   "execution_count": 37,
   "metadata": {},
   "outputs": [
    {
     "data": {
      "image/png": "[encoded data removed]",
      "text/plain": [
       "<Figure size 576x576 with 1 Axes>"
      ]
     },
     "metadata": {},
     "output_type": "display_data"
    }
   ],
   "source": [
    "# Summarize history for accuracy\n",
    "plt.figure(figsize=(8,8))\n",
    "plt.plot(model_history.history['accuracy'])\n",
    "plt.plot(model_history.history['val_accuracy'])\n",
    "plt.title('Model Accuracy')\n",
    "plt.ylabel('Accuracy')\n",
    "plt.xlabel('Epoch')\n",
    "plt.legend(['Train acc', 'Val acc'], loc='lower right')\n",
    "plt.show()"
   ]
  },
  {
   "cell_type": "code",
   "execution_count": 38,
   "metadata": {},
   "outputs": [
    {
     "data": {
      "image/png": "[encoded data removed]",
      "text/plain": [
       "<Figure size 576x576 with 1 Axes>"
      ]
     },
     "metadata": {},
     "output_type": "display_data"
    }
   ],
   "source": [
    "# Summarize history for loss\n",
    "plt.figure(figsize=(8,8))\n",
    "plt.plot(model_history.history['loss'])\n",
    "plt.plot(model_history.history['val_loss'])\n",
    "plt.title('Model Loss')\n",
    "plt.ylabel('Loss')\n",
    "plt.xlabel('Epoch')\n",
    "plt.legend(['Train loss', 'Val loss'], loc='upper right')\n",
    "plt.show()"
   ]
  },
  {
   "cell_type": "markdown",
   "metadata": {},
   "source": [
    "## Predictions"
   ]
  },
  {
   "cell_type": "code",
   "execution_count": null,
   "metadata": {},
   "outputs": [],
   "source": [
    "def predict_exit(sample_value):\n",
    "  \n",
    "  # Convert list to numpy array\n",
    "  sample_value = np.array(sample_value)\n",
    "\n",
    "  return classifier.predict(sample_value)"
   ]
  },
  {
   "cell_type": "markdown",
   "metadata": {},
   "source": [
    "### Prediction 1"
   ]
  },
  {
   "cell_type": "code",
   "execution_count": null,
   "metadata": {},
   "outputs": [],
   "source": [
    "# Predictions\n",
    "# Value order 'CreditScore','Age','Tenure','Balance','NumOfProducts','HasCrCard','IsActiveMember','EstimatedSalary','Germany','Spain','Male'.\n",
    "sample_value = [15619304]\n",
    "if predict_exit(sample_value)>0.5:\n",
    "  print('Prediction: High change of exit!')\n",
    "else:\n",
    "  print('Prediction: Low change of exit.')"
   ]
  },
  {
   "cell_type": "markdown",
   "metadata": {},
   "source": [
    "### Prediction 2"
   ]
  },
  {
   "cell_type": "code",
   "execution_count": null,
   "metadata": {},
   "outputs": [],
   "source": [
    "# Predictions\n",
    "# Value order 'CreditScore','Age','Tenure','Balance','NumOfProducts','HasCrCard','IsActiveMember','EstimatedSalary','Germany','Spain','Male'.\n",
    "sample_value = [805, 45, 9, 116585.97, 1, 1, 0, 189428.75, 1, 0, 0]\n",
    "if predict_exit(sample_value)>0.5:\n",
    "  print('Prediction: High change of exit!')\n",
    "else:\n",
    "  print('Prediction: Low change of exit.')"
   ]
  }
 ],
 "metadata": {
  "kernelspec": {
   "display_name": "Python 3",
   "language": "python",
   "name": "python3"
  },
  "language_info": {
   "codemirror_mode": {
    "name": "ipython",
    "version": 3
   },
   "file_extension": ".py",
   "mimetype": "text/x-python",
   "name": "python",
   "nbconvert_exporter": "python",
   "pygments_lexer": "ipython3",
   "version": "3.8.3"
  }
 },
 "nbformat": 4,
 "nbformat_minor": 4
}
